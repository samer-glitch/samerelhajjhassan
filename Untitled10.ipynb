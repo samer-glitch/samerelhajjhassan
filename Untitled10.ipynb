{
 "cells": [
  {
   "cell_type": "code",
   "execution_count": 1,
   "id": "e831d159",
   "metadata": {},
   "outputs": [
    {
     "name": "stdout",
     "output_type": "stream",
     "text": [
      "F critical value: 0.529314555554733\n"
     ]
    }
   ],
   "source": [
    "from scipy.stats import f\n",
    "\n",
    "# Set the significance level and degrees of freedom\n",
    "alpha = 0.05  # Significance level\n",
    "df1 = 999  # Degrees of freedom for the numerator\n",
    "df2 = 9  # Degrees of freedom for the denominator\n",
    "\n",
    "# Calculate the left-tail critical value\n",
    "F_critical = f.ppf(alpha, df1, df2)\n",
    "\n",
    "print(\"F critical value:\", F_critical)\n"
   ]
  },
  {
   "cell_type": "code",
   "execution_count": 12,
   "id": "0f20805f",
   "metadata": {},
   "outputs": [
    {
     "data": {
      "text/plain": [
       "[28730.399999999994]"
      ]
     },
     "execution_count": 12,
     "metadata": {},
     "output_type": "execute_result"
    }
   ],
   "source": [
    "[(757-803.4)**2+ (755-803.4)**2+ (819-803.4)**2 + (685-803.4)**2+ (801-803.4)**2+ (861-803.4)**2 + (836-803.4)**2+ (860-803.4)**2+ (808-803.4)**2+ (852-803.4)**2]\n",
    "\n"
   ]
  },
  {
   "cell_type": "code",
   "execution_count": 6,
   "id": "47e0393f",
   "metadata": {},
   "outputs": [
    {
     "data": {
      "text/plain": [
       "6"
      ]
     },
     "execution_count": 6,
     "metadata": {},
     "output_type": "execute_result"
    }
   ],
   "source": [
    "2*3"
   ]
  },
  {
   "cell_type": "code",
   "execution_count": 14,
   "id": "b42e751f",
   "metadata": {},
   "outputs": [
    {
     "data": {
      "text/plain": [
       "3192.266666666666"
      ]
     },
     "execution_count": 14,
     "metadata": {},
     "output_type": "execute_result"
    }
   ],
   "source": [
    "28730.399999999994/9"
   ]
  },
  {
   "cell_type": "code",
   "execution_count": 25,
   "id": "ba11ed22",
   "metadata": {},
   "outputs": [
    {
     "name": "stdout",
     "output_type": "stream",
     "text": [
      "F critical value: 0.529314555554733\n"
     ]
    }
   ],
   "source": [
    "from scipy.stats import f\n",
    "\n",
    "alpha = 0.05  # Significance level\n",
    "df1 = 999  # Degrees of freedom for the numerator\n",
    "df2 = 9  # Degrees of freedom for the denominator\n",
    "\n",
    "F_critical = f.ppf(alpha, df1, df2)\n",
    "\n",
    "print(\"F critical value:\", F_critical)\n"
   ]
  },
  {
   "cell_type": "code",
   "execution_count": 21,
   "id": "5873313f",
   "metadata": {},
   "outputs": [
    {
     "name": "stdout",
     "output_type": "stream",
     "text": [
      "F critical value: 0.29939999473464657\n"
     ]
    }
   ],
   "source": [
    "from scipy.stats import f\n",
    "\n",
    "alpha = 0.025  # Significance level\n",
    "df1 = 9  # Degrees of freedom for the numerator\n",
    "df2 = 999  # Degrees of freedom for the denominator\n",
    "\n",
    "F_critical = f.ppf(alpha, df1, df2)\n",
    "\n",
    "print(\"F critical value:\", F_critical)\n"
   ]
  },
  {
   "cell_type": "code",
   "execution_count": 23,
   "id": "c28b1360",
   "metadata": {},
   "outputs": [
    {
     "data": {
      "text/plain": [
       "2.7116445979050607"
      ]
     },
     "execution_count": 23,
     "metadata": {},
     "output_type": "execute_result"
    }
   ],
   "source": [
    "1/0.36877989127799843"
   ]
  },
  {
   "cell_type": "code",
   "execution_count": 27,
   "id": "0e587a40",
   "metadata": {},
   "outputs": [
    {
     "name": "stdout",
     "output_type": "stream",
     "text": [
      "F observed value: 0.529314555554733\n"
     ]
    }
   ],
   "source": [
    "from scipy.stats import f\n",
    "\n",
    "alpha = 0.95  # Significance level (1 - 0.95 = 0.05)\n",
    "df1 = 999  # Degrees of freedom for the numerator\n",
    "df2 = 9  # Degrees of freedom for the denominator\n",
    "\n",
    "F_observed = f.ppf(1 - alpha, df1, df2)\n",
    "\n",
    "print(\"F observed value:\", F_observed)\n"
   ]
  },
  {
   "cell_type": "code",
   "execution_count": 29,
   "id": "b4165507",
   "metadata": {},
   "outputs": [
    {
     "name": "stdout",
     "output_type": "stream",
     "text": [
      "Observed F-value: 0.529314555554733\n"
     ]
    }
   ],
   "source": [
    "from scipy.stats import f\n",
    "\n",
    "alpha = 0.95  # Confidence level (1 - Significance level)\n",
    "df1 = 999  # Degrees of freedom for the numerator\n",
    "df2 = 9  # Degrees of freedom for the denominator\n",
    "\n",
    "F_observed = f.ppf(1-alpha, df1, df2)\n",
    "\n",
    "print(\"Observed F-value:\", F_observed)\n"
   ]
  },
  {
   "cell_type": "code",
   "execution_count": 37,
   "id": "c526d44e",
   "metadata": {},
   "outputs": [
    {
     "ename": "SyntaxError",
     "evalue": "invalid syntax (147484043.py, line 9)",
     "output_type": "error",
     "traceback": [
      "\u001b[1;36m  Input \u001b[1;32mIn [37]\u001b[1;36m\u001b[0m\n\u001b[1;33m    print(\"Left-tailed critical value (F_critical):\", {F_critical}.4f)\u001b[0m\n\u001b[1;37m                                                                  ^\u001b[0m\n\u001b[1;31mSyntaxError\u001b[0m\u001b[1;31m:\u001b[0m invalid syntax\n"
     ]
    }
   ],
   "source": [
    "from scipy.stats import f\n",
    "\n",
    "alpha = 0.05  # Significance level\n",
    "df1 = 999  # Degrees of freedom for the numerator\n",
    "df2 = 9  # Degrees of freedom for the denominator\n",
    "\n",
    "F_critical = f.ppf(alpha, df1, df2)\n",
    "\n",
    "print(\"Left-tailed critical value (F_critical):\", {F_critical}.4f)\n"
   ]
  },
  {
   "cell_type": "code",
   "execution_count": 31,
   "id": "70326015",
   "metadata": {},
   "outputs": [
    {
     "data": {
      "text/plain": [
       "0.5046681806712087"
      ]
     },
     "execution_count": 31,
     "metadata": {},
     "output_type": "execute_result"
    }
   ],
   "source": [
    "1/ 1.9815"
   ]
  },
  {
   "cell_type": "code",
   "execution_count": 39,
   "id": "92c06b6f",
   "metadata": {},
   "outputs": [
    {
     "name": "stdout",
     "output_type": "stream",
     "text": [
      "Left-tailed critical value (F_critical): 0.5293\n"
     ]
    }
   ],
   "source": [
    "from scipy.stats import f\n",
    "alpha = 0.05  # Significance level\n",
    "df1 = 999  # Degrees of freedom for the numerator\n",
    "df2 = 9  # Degrees of freedom for the denominator\n",
    "F_critical = f.ppf(alpha, df1, df2)\n",
    "print(\"Left-tailed critical value (F_critical): {:.4f}\".format(F_critical))\n"
   ]
  },
  {
   "cell_type": "code",
   "execution_count": 40,
   "id": "ed18e2ca",
   "metadata": {},
   "outputs": [
    {
     "name": "stdout",
     "output_type": "stream",
     "text": [
      "Critical F-value: 0.529314555554733\n",
      "F-test value: 0.07237528\n",
      "p-value: 4.1260759745662e-21\n",
      "F-statistic < Critical F-value => Reject the null hypothesis H0 and accept Ha\n",
      "P-value < Level of Significance => Reject the null hypothesis H0 and accept Ha\n"
     ]
    },
    {
     "data": {
      "image/png": "[encoded data removed]",
      "text/plain": [
       "<Figure size 720x432 with 1 Axes>"
      ]
     },
     "metadata": {
      "needs_background": "light"
     },
     "output_type": "display_data"
    }
   ],
   "source": [
    "import numpy as np\n",
    "import matplotlib.pyplot as plt\n",
    "import scipy.stats as stats\n",
    "\n",
    "# Define degrees of freedom\n",
    "df1 = 999  # Numerator degrees of freedom\n",
    "df2 = 9  # Denominator degrees of freedom\n",
    "\n",
    "# Generate x values for plotting\n",
    "x = np.linspace(0, 7, 1000)\n",
    "\n",
    "# Compute the F-distribution for the given degrees of freedom\n",
    "f_dist = stats.f(df1, df2)\n",
    "\n",
    "# Compute the critical F-value at alpha level 0.05 (left-tailed)\n",
    "alpha = 0.05\n",
    "f_critical = f_dist.ppf(alpha)\n",
    "\n",
    "# Compute the F-statistic from your hypothesis test\n",
    "f_test = 0.07237528\n",
    "\n",
    "# Calculate the p-value for left-tailed test\n",
    "p_value = f_dist.cdf(f_test)\n",
    "\n",
    "# Plot the F-distribution\n",
    "plt.figure(figsize=(10, 6))  # Enlarge the plot size\n",
    "plt.plot(x, f_dist.pdf(x), label=f\"F-distribution (df1={df1}, df2={df2})\")\n",
    "plt.fill_between(x, 0, f_dist.pdf(x), where=x <= f_critical, alpha=0.5, color='green', label='Ha: F < f_critical')\n",
    "plt.fill_between(x, 0, f_dist.pdf(x), where=x >= f_critical, alpha=0.5, color='red', label='H0: F >= f_critical')\n",
    "plt.axvline(f_critical, color='red', linestyle='--', label='Critical F-value')\n",
    "plt.axvline(f_test, color='blue', linestyle='--', label='F-statistic')\n",
    "\n",
    "# Annotate the regions of H0 and Ha\n",
    "plt.text(0.3, 0.05, 'Ha', fontsize=12, fontweight='bold', color='black', ha='center')\n",
    "plt.text(5.5, 0.05, 'H0', fontsize=12, fontweight='bold', color='black', ha='center')\n",
    "\n",
    "plt.legend()\n",
    "\n",
    "# Add labels and title\n",
    "plt.xlabel('F test statistic f', fontsize=14)\n",
    "plt.ylabel('Probability Density', fontsize=14)\n",
    "plt.title('F-Distribution Left-Tailed Hypothesis Testing', fontsize=14)\n",
    "\n",
    "# Print the critical F-value, F-test value, and p-value\n",
    "print(\"Critical F-value:\", f_critical)\n",
    "print(\"F-test value:\", f_test)\n",
    "print(\"p-value:\", p_value)\n",
    "\n",
    "# Check if H0 should be rejected based on the F-statistic\n",
    "if f_test < f_critical:\n",
    "    print(\"F-statistic < Critical F-value => Reject the null hypothesis H0 and accept Ha\")\n",
    "else:\n",
    "    print(\"F-statistic >= Critical F-value => Failed to reject H0\")\n",
    "\n",
    "# Check if H0 should be rejected based on the p-value\n",
    "if p_value < alpha:\n",
    "    print(\"P-value < Level of Significance => Reject the null hypothesis H0 and accept Ha\")\n",
    "else:\n",
    "    print(\"P-value >= Level of Significance alpha => Failed to reject H0\")\n",
    "\n",
    "# Annotate F critical value\n",
    "plt.annotate(f'F critical: {f_critical:.4f}', xy=(f_critical, 0.02), xytext=(f_critical, 0.2),\n",
    "             arrowprops=dict(facecolor='black', arrowstyle='->'))\n",
    "# Show the plot\n",
    "plt.show()\n"
   ]
  },
  {
   "cell_type": "code",
   "execution_count": 45,
   "id": "b7c143a4",
   "metadata": {},
   "outputs": [
    {
     "name": "stdout",
     "output_type": "stream",
     "text": [
      "+---------+--------------------+----------------+-------------+\n",
      "|   Alpha |   Critical F-value |   F-test value | Reject H0   |\n",
      "+=========+====================+================+=============+\n",
      "|  0.1    |           0.610576 |      0.0723753 | Yes         |\n",
      "+---------+--------------------+----------------+-------------+\n",
      "|  0.05   |           0.529315 |      0.0723753 | Yes         |\n",
      "+---------+--------------------+----------------+-------------+\n",
      "|  0.025  |           0.47028  |      0.0723753 | Yes         |\n",
      "+---------+--------------------+----------------+-------------+\n",
      "|  0.01   |           0.412361 |      0.0723753 | Yes         |\n",
      "+---------+--------------------+----------------+-------------+\n",
      "|  0.005  |           0.378374 |      0.0723753 | Yes         |\n",
      "+---------+--------------------+----------------+-------------+\n",
      "|  0.0025 |           0.35021  |      0.0723753 | Yes         |\n",
      "+---------+--------------------+----------------+-------------+\n",
      "|  0.0001 |           0.263357 |      0.0723753 | Yes         |\n",
      "+---------+--------------------+----------------+-------------+\n",
      "|  1e-21  |           0        |      0.0723753 | No          |\n",
      "+---------+--------------------+----------------+-------------+\n"
     ]
    }
   ],
   "source": [
    "import numpy as np\n",
    "from tabulate import tabulate\n",
    "import scipy.stats as stats\n",
    "\n",
    "# Define degrees of freedom\n",
    "df1 = 999  # Numerator degrees of freedom\n",
    "df2 = 9  # Denominator degrees of freedom\n",
    "\n",
    "# Generate x values for plotting\n",
    "x = np.linspace(0, 7, 1000)\n",
    "\n",
    "# Compute the F-distribution for the given degrees of freedom\n",
    "f_dist = stats.f(df1, df2)\n",
    "\n",
    "# Define alpha levels\n",
    "alpha_levels = [0.1, 0.05, 0.025, 0.01, 0.005, 0.0025, 0.0001, 1e-21]\n",
    "\n",
    "# Create an empty table\n",
    "results_table = []\n",
    "\n",
    "# Iterate over alpha levels\n",
    "for alpha in alpha_levels:\n",
    "    # Compute the critical F-value at the current alpha level (left-tailed)\n",
    "    f_critical = f_dist.ppf(alpha)\n",
    "    \n",
    "    # Generate a random F-test value (F-test value)\n",
    "    f_test = 0.07237528\n",
    "    \n",
    "    # Calculate the p-value for left-tailed test\n",
    "    p_value = f_dist.cdf(f_test)\n",
    "    \n",
    "    # Check if H0 should be rejected based on the F-statistic and the critical F-value\n",
    "    if f_test < f_critical:\n",
    "        reject_h0 = 'Yes'\n",
    "    else:\n",
    "        reject_h0 = 'No'\n",
    "    \n",
    "    # Add the results to the table\n",
    "    results_table.append([alpha, f_critical, f_test, reject_h0])\n",
    "\n",
    "# Print the results table\n",
    "table_headers = ['Alpha', 'Critical F-value', 'F-test value', 'Reject H0']\n",
    "table_string = tabulate(results_table, headers=table_headers, tablefmt='grid')\n",
    "print(table_string)\n"
   ]
  },
  {
   "cell_type": "code",
   "execution_count": null,
   "id": "5f4fcfd5",
   "metadata": {},
   "outputs": [],
   "source": []
  }
 ],
 "metadata": {
  "kernelspec": {
   "display_name": "Python 3 (ipykernel)",
   "language": "python",
   "name": "python3"
  },
  "language_info": {
   "codemirror_mode": {
    "name": "ipython",
    "version": 3
   },
   "file_extension": ".py",
   "mimetype": "text/x-python",
   "name": "python",
   "nbconvert_exporter": "python",
   "pygments_lexer": "ipython3",
   "version": "3.9.12"
  }
 },
 "nbformat": 4,
 "nbformat_minor": 5
}
