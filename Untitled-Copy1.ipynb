{
 "cells": [
  {
   "cell_type": "code",
   "execution_count": 3,
   "id": "5fe48328",
   "metadata": {},
   "outputs": [
    {
     "name": "stdout",
     "output_type": "stream",
     "text": [
      "[[ 0  1  2  3]\n",
      " [ 4  5  6  7]\n",
      " [ 8  9 10 11]]\n",
      "0\n",
      "4\n",
      "8\n",
      "1\n",
      "5\n",
      "9\n",
      "2\n",
      "6\n",
      "10\n",
      "3\n",
      "7\n",
      "11\n",
      "[ 0  1  2  3  4  5  6  7  8  9 10 11]\n",
      "[5. 8. 9.]\n"
     ]
    }
   ],
   "source": [
    "import numpy as np\n",
    "data = np.arange(12).reshape(3,4)\n",
    "\n",
    "print (data)\n",
    "for x in np.nditer(data,order = 'F'):\n",
    "    print (x)\n",
    "\n",
    "print(data.flatten())\n",
    "W=np.array([])\n",
    "#W=np.empty(0, dtype=object)\n",
    "for cell in data.flatten():\n",
    "    if (cell > 4 and cell <6) | (cell >7 and cell <10):\n",
    "        #print (cell)\n",
    "        W2=np.array([cell])\n",
    "        #print(W2)\n",
    "        W3= W2.flatten()\n",
    "        #print(W3)\n",
    "        #np.concatenate(W, W3)\n",
    "        W= np.hstack([W, W3])\n",
    "        #print(np.hstack([W, W3]))\n",
    "\n",
    "\n",
    "print(W)\n",
    "\n"
   ]
  },
  {
   "cell_type": "code",
   "execution_count": null,
   "id": "044264f2",
   "metadata": {},
   "outputs": [],
   "source": []
  },
  {
   "cell_type": "code",
   "execution_count": null,
   "id": "cfaba95f",
   "metadata": {},
   "outputs": [],
   "source": []
  }
 ],
 "metadata": {
  "kernelspec": {
   "display_name": "Python 3 (ipykernel)",
   "language": "python",
   "name": "python3"
  },
  "language_info": {
   "codemirror_mode": {
    "name": "ipython",
    "version": 3
   },
   "file_extension": ".py",
   "mimetype": "text/x-python",
   "name": "python",
   "nbconvert_exporter": "python",
   "pygments_lexer": "ipython3",
   "version": "3.9.12"
  }
 },
 "nbformat": 4,
 "nbformat_minor": 5
}
